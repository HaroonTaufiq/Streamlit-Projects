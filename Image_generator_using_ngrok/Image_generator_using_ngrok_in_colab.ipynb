{
  "cells": [
    {
      "cell_type": "markdown",
      "metadata": {
        "id": "c5VggTYGs1u7"
      },
      "source": [
        "# Text to Image generator using Ngrok and streamlit in Google Colab"
      ]
    },
    {
      "cell_type": "markdown",
      "metadata": {
        "id": "JcjYhjp56QIP"
      },
      "source": [
        "## Intro\n",
        "### Since Google Colab does not natively support direct Streamlit deployments, Ngrok is used. Ngrok is a tool that enables you to expose local servers to the public internet over secure tunnels, vital for testing applications in development settings like Google Colab."
      ]
    },
    {
      "cell_type": "markdown",
      "metadata": {
        "id": "sm_lmnvxtgYe"
      },
      "source": [
        "# 1- Installing libraries"
      ]
    },
    {
      "cell_type": "code",
      "execution_count": null,
      "metadata": {
        "colab": {
          "base_uri": "https://localhost:8080/"
        },
        "collapsed": true,
        "id": "_zHAaaU47UFW",
        "outputId": "55428ad2-f653-4503-ae8f-80e90042f711"
      },
      "outputs": [],
      "source": [
        "!pip install pyngrok"
      ]
    },
    {
      "cell_type": "code",
      "execution_count": 2,
      "metadata": {
        "id": "GGhHg-tr7jws"
      },
      "outputs": [],
      "source": [
        "from pyngrok import ngrok"
      ]
    },
    {
      "cell_type": "markdown",
      "metadata": {
        "id": "sJNsuGFEt0vK"
      },
      "source": [
        "Go to [Ngrok website](https://ngrok.com/), make account and get auth token"
      ]
    },
    {
      "cell_type": "code",
      "execution_count": 3,
      "metadata": {
        "colab": {
          "base_uri": "https://localhost:8080/"
        },
        "id": "u8lYmra08qhw",
        "outputId": "037d0e00-4579-4ae3-d369-cfa898e29925"
      },
      "outputs": [
        {
          "name": "stdout",
          "output_type": "stream",
          "text": [
            "Authtoken saved to configuration file: /root/.config/ngrok/ngrok.yml\n"
          ]
        }
      ],
      "source": [
        "!ngrok authtoken ...  # Replace token with the actual token"
      ]
    },
    {
      "cell_type": "markdown",
      "metadata": {
        "id": "sWLG3Z3s6eBL"
      },
      "source": [
        "- Diffusers: for model inference\n",
        "- Torch: machine learning library\n",
        "- Torchvision: image processing for Torch\n",
        "- Streamlit: web app framework\n",
        "- NumPy: data handling\n",
        "- Huggingface-Hub: model hosting and downloading\n",
        "- Pyngrok: Ngrok integration"
      ]
    },
    {
      "cell_type": "code",
      "execution_count": null,
      "metadata": {
        "colab": {
          "base_uri": "https://localhost:8080/"
        },
        "collapsed": true,
        "id": "QQPSJNZBOMtF",
        "outputId": "ba382bf4-1494-4376-f1aa-254ff0710bfa"
      },
      "outputs": [],
      "source": [
        "!pip install diffusers torch torchvision streamlit  numpy huggingface-hub"
      ]
    },
    {
      "cell_type": "code",
      "execution_count": 5,
      "metadata": {
        "id": "AWBBnXbYAve9"
      },
      "outputs": [],
      "source": [
        "# !pip install -r /content/requirements_clean.txt  (In case if you want to install all libraries from requirement.txt instead of above code in notebook)"
      ]
    },
    {
      "cell_type": "code",
      "execution_count": 6,
      "metadata": {
        "id": "-wT635QZB4XN"
      },
      "outputs": [],
      "source": [
        "# !pip install pillow==10.4.0"
      ]
    },
    {
      "cell_type": "markdown",
      "metadata": {
        "id": "pvkMkODTuNjc"
      },
      "source": [
        "# 2-Streamlit .py script"
      ]
    },
    {
      "cell_type": "code",
      "execution_count": 7,
      "metadata": {
        "colab": {
          "base_uri": "https://localhost:8080/"
        },
        "id": "3Fwk6JbBj_sZ",
        "outputId": "ce65c6f5-1bde-45a3-bc5b-48564776a92b"
      },
      "outputs": [
        {
          "name": "stdout",
          "output_type": "stream",
          "text": [
            "Writing app_1.py\n"
          ]
        }
      ],
      "source": [
        "%%writefile app_1.py\n",
        "import streamlit as st\n",
        "from diffusers import DiffusionPipeline\n",
        "import torch\n",
        "from PIL import Image\n",
        "import io\n",
        "import numpy as np\n",
        "import time\n",
        "\n",
        "@st.cache_resource\n",
        "def load_model():\n",
        "    model = DiffusionPipeline.from_pretrained(\"runwayml/stable-diffusion-v1-5\")\n",
        "    model.to(\"cuda\" if torch.cuda.is_available() else \"cpu\")\n",
        "    return model\n",
        "\n",
        "generator = load_model()\n",
        "\n",
        "st.title('Text to Image Generator')\n",
        "prompt = st.text_input(\"Enter your prompt:\", \"A scenic landscape painting\")\n",
        "\n",
        "if st.button('Generate Image'):\n",
        "    start_time = time.time()  # Start timing\n",
        "    with st.spinner('Generating image...'):\n",
        "        # Generate the image with a low number of inference steps\n",
        "        output = generator(prompt, num_inference_steps=5, eta=0.0)  # Adjust ETA to possibly reduce computation and inc for better img quality\n",
        "        image = output.images[0]\n",
        "\n",
        "        # Convert to NumPy array\n",
        "        image = np.array(image)\n",
        "\n",
        "        # Convert to PIL Image\n",
        "        pil_image = Image.fromarray(image.astype(np.uint8))  # Cast to uint8 for PIL compatibility\n",
        "\n",
        "        # Display the image\n",
        "        st.image(pil_image, caption='Generated Image', use_column_width=True)\n",
        "\n",
        "        # Provide a download button\n",
        "        buf = io.BytesIO()\n",
        "        pil_image.save(buf, format=\"JPEG\")\n",
        "        byte_im = buf.getvalue()\n",
        "        st.download_button(\n",
        "            label=\"Download Image\",\n",
        "            data=byte_im,\n",
        "            file_name=\"generated_image.jpg\",\n",
        "            mime=\"image/jpeg\"\n",
        "        )\n",
        "\n",
        "    # Record and display time taken\n",
        "    end_time = time.time()\n",
        "    st.write(f\"Time taken to generate image: {end_time - start_time:.2f} seconds\")\n",
        "\n",
        "st.write(\"Enter a textual prompt and press generate to create an image.\")"
      ]
    },
    {
      "cell_type": "markdown",
      "metadata": {
        "id": "UDsrbEJ-uV1r"
      },
      "source": [
        "# Launching app"
      ]
    },
    {
      "cell_type": "code",
      "execution_count": 8,
      "metadata": {
        "id": "RFgf6ny18EGl"
      },
      "outputs": [],
      "source": [
        "!streamlit run app_1.py &>/dev/null&"
      ]
    },
    {
      "cell_type": "code",
      "execution_count": 14,
      "metadata": {
        "colab": {
          "base_uri": "https://localhost:8080/"
        },
        "id": "9qw4zkdq8NUl",
        "outputId": "420a8240-2067-46e1-c71f-dde79843e3f3"
      },
      "outputs": [
        {
          "name": "stdout",
          "output_type": "stream",
          "text": [
            "Access your Streamlit app at: NgrokTunnel: \"https://308f-34-81-36-108.ngrok-free.app\" -> \"http://localhost:8501\"\n"
          ]
        }
      ],
      "source": [
        "# Start an HTTP tunnel on the default port 8501 for Streamlit\n",
        "url = ngrok.connect(8501)\n",
        "print(\"Access your Streamlit app at:\", url)\n",
        "\n",
        "# you will get url after running it"
      ]
    },
    {
      "cell_type": "code",
      "execution_count": 10,
      "metadata": {
        "id": "OPd5kLFf_V1k"
      },
      "outputs": [],
      "source": [
        "# ngrok.disconnect(url)"
      ]
    },
    {
      "cell_type": "code",
      "execution_count": 11,
      "metadata": {
        "colab": {
          "base_uri": "https://localhost:8080/"
        },
        "id": "JPhZV1xa_vIA",
        "outputId": "78472ed9-d446-48d7-fccd-528b99a905b1"
      },
      "outputs": [
        {
          "name": "stdout",
          "output_type": "stream",
          "text": [
            "[<NgrokTunnel: \"https://15e9-34-81-36-108.ngrok-free.app\" -> \"http://localhost:8501\">]\n"
          ]
        }
      ],
      "source": [
        "active_tunnels = ngrok.get_tunnels()\n",
        "print(active_tunnels)"
      ]
    },
    {
      "cell_type": "code",
      "execution_count": 12,
      "metadata": {
        "id": "HIHRzqHR-NjH"
      },
      "outputs": [],
      "source": [
        "# ngrok.kill()"
      ]
    }
  ],
  "metadata": {
    "accelerator": "GPU",
    "colab": {
      "gpuType": "T4",
      "provenance": []
    },
    "kernelspec": {
      "display_name": "Python 3",
      "name": "python3"
    },
    "language_info": {
      "name": "python"
    }
  },
  "nbformat": 4,
  "nbformat_minor": 0
}
